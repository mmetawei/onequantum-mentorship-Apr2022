{
 "cells": [
  {
   "cell_type": "code",
   "execution_count": 1,
   "id": "e18e2b9d-e78b-4c01-aa8c-706b89948e09",
   "metadata": {},
   "outputs": [
    {
     "name": "stderr",
     "output_type": "stream",
     "text": [
      "/home/jovyan/.qbraid/environments/womanium_go14xk/pyenv/lib/python3.9/site-packages/lambeq/text2diagram/ccg_parser.py:24: TqdmExperimentalWarning: Using `tqdm.autonotebook.tqdm` in notebook mode. Use `tqdm.tqdm` instead to force console mode (e.g. in jupyter console)\n",
      "  from tqdm.autonotebook import tqdm\n"
     ]
    }
   ],
   "source": [
    "import warnings\n",
    "from lambeq import QuantumTrainer, SPSAOptimizer\n",
    "from helper import *\n",
    "from lambeq import Dataset\n",
    "import os\n",
    "import numpy as np\n",
    "import pandas as pd\n",
    "import sklearn as sk\n",
    "#import json"
   ]
  },
  {
   "cell_type": "code",
   "execution_count": 2,
   "id": "ac0f3a6e-1bd4-4d91-af9a-359fe61bac78",
   "metadata": {},
   "outputs": [],
   "source": [
    "warnings.filterwarnings(\"ignore\")\n",
    "os.environ[\"TOKENIZERS_PARALLELISM\"] = \"true\"\n",
    "BATCH_SIZE = 50\n",
    "EPOCHS = 120\n",
    "RANDOM_SEED = 2\n",
    "np.random.seed(RANDOM_SEED)"
   ]
  },
  {
   "cell_type": "code",
   "execution_count": 3,
   "id": "4b0b972d-3aa2-4dec-9258-9e3c026720b4",
   "metadata": {},
   "outputs": [],
   "source": [
    "df = pd.read_csv(\"MC1.txt\", header=None, sep=\", \", engine=\"python\")"
   ]
  },
  {
   "cell_type": "code",
   "execution_count": 4,
   "id": "225cc1c6-ea6d-4ae4-9b03-17c6f97cb91f",
   "metadata": {},
   "outputs": [
    {
     "data": {
      "text/html": [
       "<div>\n",
       "<style scoped>\n",
       "    .dataframe tbody tr th:only-of-type {\n",
       "        vertical-align: middle;\n",
       "    }\n",
       "\n",
       "    .dataframe tbody tr th {\n",
       "        vertical-align: top;\n",
       "    }\n",
       "\n",
       "    .dataframe thead th {\n",
       "        text-align: right;\n",
       "    }\n",
       "</style>\n",
       "<table border=\"1\" class=\"dataframe\">\n",
       "  <thead>\n",
       "    <tr style=\"text-align: right;\">\n",
       "      <th></th>\n",
       "      <th>s1</th>\n",
       "      <th>s2</th>\n",
       "      <th>label</th>\n",
       "    </tr>\n",
       "  </thead>\n",
       "  <tbody>\n",
       "    <tr>\n",
       "      <th>0</th>\n",
       "      <td>cook creates complicated dish</td>\n",
       "      <td>experienced chef prepares complicated dish</td>\n",
       "      <td>1</td>\n",
       "    </tr>\n",
       "    <tr>\n",
       "      <th>1</th>\n",
       "      <td>skilful programmer creates code</td>\n",
       "      <td>devoted hacker writes code</td>\n",
       "      <td>1</td>\n",
       "    </tr>\n",
       "    <tr>\n",
       "      <th>2</th>\n",
       "      <td>skilful cook creates meal</td>\n",
       "      <td>devoted hacker creates complicated code</td>\n",
       "      <td>0</td>\n",
       "    </tr>\n",
       "    <tr>\n",
       "      <th>3</th>\n",
       "      <td>hacker writes code</td>\n",
       "      <td>skilful hacker creates code</td>\n",
       "      <td>1</td>\n",
       "    </tr>\n",
       "    <tr>\n",
       "      <th>4</th>\n",
       "      <td>devoted hacker writes code</td>\n",
       "      <td>hacker writes complicated code</td>\n",
       "      <td>1</td>\n",
       "    </tr>\n",
       "  </tbody>\n",
       "</table>\n",
       "</div>"
      ],
      "text/plain": [
       "                                s1  \\\n",
       "0    cook creates complicated dish   \n",
       "1  skilful programmer creates code   \n",
       "2        skilful cook creates meal   \n",
       "3               hacker writes code   \n",
       "4       devoted hacker writes code   \n",
       "\n",
       "                                           s2  label  \n",
       "0  experienced chef prepares complicated dish      1  \n",
       "1                  devoted hacker writes code      1  \n",
       "2     devoted hacker creates complicated code      0  \n",
       "3                 skilful hacker creates code      1  \n",
       "4              hacker writes complicated code      1  "
      ]
     },
     "execution_count": 4,
     "metadata": {},
     "output_type": "execute_result"
    }
   ],
   "source": [
    "df.columns = [\"s1\", \"s2\", \"label\"]\n",
    "\n",
    "df.head()"
   ]
  },
  {
   "cell_type": "code",
   "execution_count": 5,
   "id": "de592c05-d187-4843-b63a-f8c3c8683aa2",
   "metadata": {},
   "outputs": [],
   "source": [
    "from sklearn.model_selection import train_test_split, RepeatedStratifiedKFold\n",
    "df_train_val, df_test = train_test_split(df, test_size=0.2, shuffle=False)\n",
    "rskf = RepeatedStratifiedKFold(n_splits=5, n_repeats=5)\n",
    "rskf_splits = list(rskf.split(df_train_val[[\"s1\", \"s2\"]], y=df_train_val[\"label\"]))"
   ]
  },
  {
   "cell_type": "code",
   "execution_count": 6,
   "id": "850622ee-df39-45c4-bca8-dc04e7ca3897",
   "metadata": {},
   "outputs": [],
   "source": [
    "ansatz = IQPAnsatz({AtomicType.NOUN: 2, AtomicType.SENTENCE: 1},\n",
    "                       n_layers=1, n_single_qubit_params=3)"
   ]
  },
  {
   "cell_type": "code",
   "execution_count": 7,
   "id": "f958cb1c-74d7-4706-83a1-f82db4779d70",
   "metadata": {},
   "outputs": [
    {
     "data": {
      "text/plain": [
       "(64, 3)"
      ]
     },
     "execution_count": 7,
     "metadata": {},
     "output_type": "execute_result"
    }
   ],
   "source": [
    "train_idx, val_idx = rskf_splits[0]\n",
    "df_train, df_val = df_train_val.iloc[train_idx], df_train_val.iloc[val_idx]\n",
    "df_train.shape"
   ]
  },
  {
   "cell_type": "code",
   "execution_count": 8,
   "id": "3050b6c8-46e0-4d7a-aea6-2987cecb8124",
   "metadata": {},
   "outputs": [
    {
     "name": "stdout",
     "output_type": "stream",
     "text": [
      "(29, 3)\n",
      "(35, 3)\n"
     ]
    }
   ],
   "source": [
    "print(df_train[df_train[\"label\"] == 0].shape)\n",
    "print(df_train[df_train[\"label\"] == 1].shape)"
   ]
  },
  {
   "cell_type": "code",
   "execution_count": 9,
   "id": "5f96da9f-ffa1-4d90-b0ae-98cee25366d0",
   "metadata": {},
   "outputs": [
    {
     "data": {
      "text/html": [
       "<div>\n",
       "<style scoped>\n",
       "    .dataframe tbody tr th:only-of-type {\n",
       "        vertical-align: middle;\n",
       "    }\n",
       "\n",
       "    .dataframe tbody tr th {\n",
       "        vertical-align: top;\n",
       "    }\n",
       "\n",
       "    .dataframe thead th {\n",
       "        text-align: right;\n",
       "    }\n",
       "</style>\n",
       "<table border=\"1\" class=\"dataframe\">\n",
       "  <thead>\n",
       "    <tr style=\"text-align: right;\">\n",
       "      <th></th>\n",
       "      <th>s1</th>\n",
       "      <th>s2</th>\n",
       "      <th>label</th>\n",
       "    </tr>\n",
       "  </thead>\n",
       "  <tbody>\n",
       "    <tr>\n",
       "      <th>0</th>\n",
       "      <td>cook creates complicated dish</td>\n",
       "      <td>experienced chef prepares complicated dish</td>\n",
       "      <td>1</td>\n",
       "    </tr>\n",
       "    <tr>\n",
       "      <th>1</th>\n",
       "      <td>skilful programmer creates code</td>\n",
       "      <td>devoted hacker writes code</td>\n",
       "      <td>1</td>\n",
       "    </tr>\n",
       "    <tr>\n",
       "      <th>2</th>\n",
       "      <td>skilful cook creates meal</td>\n",
       "      <td>devoted hacker creates complicated code</td>\n",
       "      <td>0</td>\n",
       "    </tr>\n",
       "    <tr>\n",
       "      <th>3</th>\n",
       "      <td>hacker writes code</td>\n",
       "      <td>skilful hacker creates code</td>\n",
       "      <td>1</td>\n",
       "    </tr>\n",
       "    <tr>\n",
       "      <th>4</th>\n",
       "      <td>devoted hacker writes code</td>\n",
       "      <td>hacker writes complicated code</td>\n",
       "      <td>1</td>\n",
       "    </tr>\n",
       "    <tr>\n",
       "      <th>...</th>\n",
       "      <td>...</td>\n",
       "      <td>...</td>\n",
       "      <td>...</td>\n",
       "    </tr>\n",
       "    <tr>\n",
       "      <th>95</th>\n",
       "      <td>skilful programmer writes advanced code</td>\n",
       "      <td>skilful cook prepares meal</td>\n",
       "      <td>0</td>\n",
       "    </tr>\n",
       "    <tr>\n",
       "      <th>96</th>\n",
       "      <td>programmer creates code</td>\n",
       "      <td>chef creates dish</td>\n",
       "      <td>0</td>\n",
       "    </tr>\n",
       "    <tr>\n",
       "      <th>97</th>\n",
       "      <td>hacker creates code</td>\n",
       "      <td>chef prepares dish</td>\n",
       "      <td>0</td>\n",
       "    </tr>\n",
       "    <tr>\n",
       "      <th>98</th>\n",
       "      <td>skilful programmer creates complicated code</td>\n",
       "      <td>programmer writes complicated code</td>\n",
       "      <td>1</td>\n",
       "    </tr>\n",
       "    <tr>\n",
       "      <th>99</th>\n",
       "      <td>experienced cook creates dish</td>\n",
       "      <td>skilful chef creates dish</td>\n",
       "      <td>1</td>\n",
       "    </tr>\n",
       "  </tbody>\n",
       "</table>\n",
       "<p>100 rows × 3 columns</p>\n",
       "</div>"
      ],
      "text/plain": [
       "                                             s1  \\\n",
       "0                 cook creates complicated dish   \n",
       "1               skilful programmer creates code   \n",
       "2                     skilful cook creates meal   \n",
       "3                            hacker writes code   \n",
       "4                    devoted hacker writes code   \n",
       "..                                          ...   \n",
       "95      skilful programmer writes advanced code   \n",
       "96                      programmer creates code   \n",
       "97                          hacker creates code   \n",
       "98  skilful programmer creates complicated code   \n",
       "99                experienced cook creates dish   \n",
       "\n",
       "                                            s2  label  \n",
       "0   experienced chef prepares complicated dish      1  \n",
       "1                   devoted hacker writes code      1  \n",
       "2      devoted hacker creates complicated code      0  \n",
       "3                  skilful hacker creates code      1  \n",
       "4               hacker writes complicated code      1  \n",
       "..                                         ...    ...  \n",
       "95                  skilful cook prepares meal      0  \n",
       "96                           chef creates dish      0  \n",
       "97                          chef prepares dish      0  \n",
       "98          programmer writes complicated code      1  \n",
       "99                   skilful chef creates dish      1  \n",
       "\n",
       "[100 rows x 3 columns]"
      ]
     },
     "execution_count": 9,
     "metadata": {},
     "output_type": "execute_result"
    }
   ],
   "source": [
    "preprocess_df(df_train, ansatz)\n",
    "preprocess_df(df_val, ansatz)\n",
    "preprocess_df(df_test, ansatz)\n",
    "df.dropna()"
   ]
  },
  {
   "cell_type": "code",
   "execution_count": 10,
   "id": "c106e316-b4e4-42b2-b2f7-197321424890",
   "metadata": {},
   "outputs": [],
   "source": [
    "train_circuits = list(df_train[[\"s1_circuit\", \"s2_circuit\"]].values)\n",
    "val_circuits = list(df_val[[\"s1_circuit\", \"s2_circuit\"]].values)\n",
    "test_circuits = list(df_test[[\"s1_circuit\", \"s2_circuit\"]].values)"
   ]
  },
  {
   "cell_type": "code",
   "execution_count": 11,
   "id": "bef67d47-486d-4c68-8bb2-10f61a3b0400",
   "metadata": {},
   "outputs": [
    {
     "data": {
      "text/plain": [
       "(200,)"
      ]
     },
     "execution_count": 11,
     "metadata": {},
     "output_type": "execute_result"
    }
   ],
   "source": [
    "all_circuits = train_circuits + val_circuits + test_circuits\n",
    "assert len(all_circuits) == len(df)\n",
    "train_diagrams = list(df_train[[\"s1_diagrams\", \"s2_diagrams\"]].values)\n",
    "val_diagrams = list(df_val[[\"s1_diagrams\", \"s2_diagrams\"]].values)\n",
    "test_diagrams = list(df_test[[\"s1_diagrams\", \"s2_diagrams\"]].values)\n",
    "all_diagrams = train_diagrams + val_diagrams + test_diagrams         \n",
    "np.array(all_circuits).reshape(-1).shape"
   ]
  },
  {
   "cell_type": "code",
   "execution_count": 12,
   "id": "c5547450-573a-49fa-a916-7c855227a49c",
   "metadata": {},
   "outputs": [],
   "source": [
    "train_labels = list(df_train[\"label_v\"].values)\n",
    "val_labels = list(df_val[\"label_v\"].values)\n",
    "test_labels = list(df_test[\"label_v\"].values)\n",
    "assert len(train_labels) > 0\n",
    "assert(test_labels)\n",
    "assert(val_labels)"
   ]
  },
  {
   "cell_type": "code",
   "execution_count": 13,
   "id": "3d024d60-1f88-420a-bab0-af9bd1103c48",
   "metadata": {},
   "outputs": [
    {
     "name": "stderr",
     "output_type": "stream",
     "text": [
      "configrc.store_credentials:WARNING:2022-12-30 21:22:48,806: Credentials already present. Set overwrite=True to overwrite.\n"
     ]
    }
   ],
   "source": [
    "from pytket.extensions.qiskit import IBMQBackend\n",
    "from pytket.extensions.qiskit import AerBackend\n",
    "from qiskit.providers.aer.noise import NoiseModel\n",
    "from qiskit import IBMQ\n",
    "IBMQ.save_account('3c7bb882c186256cc5e989cf02f639e9282a264ee520c8882c6fb1c9ea51be3ce3d407629b8fed7450de430b7ccc59d4f97afddbba9b72b9daaebb40559ef0fc')\n",
    "provider = IBMQ.load_account()\n",
    "backend = AerBackend(NoiseModel.from_backend(IBMQ.providers()[0].get_backend('ibmq_manila')))\n",
    "\n",
    "backend_config = {\n",
    "    \"backend\": backend,\n",
    "    \"compilation\": backend.default_compilation_pass(2),\n",
    "    \"shots\": 2**10,\n",
    "}"
   ]
  },
  {
   "cell_type": "code",
   "execution_count": 14,
   "id": "46157d56-ad9c-4021-a23f-4c0a77b52e71",
   "metadata": {},
   "outputs": [],
   "source": [
    "model = CustomTketModel.from_diagrams(np.array(all_circuits).reshape(-1), backend_config=backend_config)"
   ]
  },
  {
   "cell_type": "code",
   "execution_count": 15,
   "id": "d835278b-325e-4766-a9d2-c4e348e35ea9",
   "metadata": {},
   "outputs": [],
   "source": [
    "epsilon=np.finfo('float').eps\n",
    "loss = lambda y_hat, y: (-np.nansum(y * np.log(y_hat + epsilon)) + epsilon ) / len(y)\n",
    "acc = lambda y_hat, y: np.nansum(np.round(y_hat) == y) / len(y)/ 2 if (len(y) > 0) else None\n",
    "eval_metrics = {\"acc\": acc}"
   ]
  },
  {
   "cell_type": "code",
   "execution_count": 16,
   "id": "181371ad-eed4-4d90-aed8-872f395e37a5",
   "metadata": {},
   "outputs": [],
   "source": [
    "trainer = QuantumTrainer(\n",
    "    model,\n",
    "    loss_function=loss,\n",
    "    epochs=EPOCHS,\n",
    "    optimizer=SPSAOptimizer,\n",
    "    optim_hyperparams={\"a\": 0.05, \"c\": 0.06, \"A\": 0.01 * EPOCHS},\n",
    "    evaluate_functions=eval_metrics,\n",
    "    verbose=\"text\",\n",
    "    seed=RANDOM_SEED,\n",
    ")"
   ]
  },
  {
   "cell_type": "code",
   "execution_count": 17,
   "id": "2d503ac9-1b22-41a7-b041-0187a6293eb7",
   "metadata": {},
   "outputs": [
    {
     "name": "stdout",
     "output_type": "stream",
     "text": [
      "[[1, 0], [1, 0], [0, 1], [0, 1], [0, 1], [0, 1], [1, 0], [1, 0], [1, 0], [1, 0], [0, 1], [1, 0], [0, 1], [1, 0], [1, 0], [0, 1]]\n"
     ]
    }
   ],
   "source": [
    "\n",
    "train_dataset = Dataset(\n",
    "            train_circuits,\n",
    "            train_labels,\n",
    "            batch_size=BATCH_SIZE)\n",
    "\n",
    "val_dataset = Dataset(val_circuits, val_labels, shuffle=False)\n",
    "if not train_labels:\n",
    "    raise Exception(\"Empty train labels list!\")\n",
    "if not val_labels:\n",
    "    raise Exception(\"Empty test labels list!\")\n",
    "print(val_labels)"
   ]
  },
  {
   "cell_type": "code",
   "execution_count": 18,
   "id": "9885ad16-c79e-4f2e-98a4-153a3dd5fd18",
   "metadata": {},
   "outputs": [
    {
     "name": "stderr",
     "output_type": "stream",
     "text": [
      "Epoch 1:    train/loss: 0.8203   valid/loss: 0.5570   train/acc: 0.7500   valid/acc: 0.7500\n",
      "Epoch 12:   train/loss: 1.1749   valid/loss: 0.5589   train/acc: 0.7031   valid/acc: 0.6250\n",
      "Epoch 24:   train/loss: 0.1738   valid/loss: 0.0659   train/acc: 1.0000   valid/acc: 1.0000\n",
      "Epoch 36:   train/loss: 0.0559   valid/loss: 0.0449   train/acc: 1.0000   valid/acc: 1.0000\n",
      "Epoch 48:   train/loss: 0.0511   valid/loss: 0.0420   train/acc: 1.0000   valid/acc: 1.0000\n",
      "Epoch 60:   train/loss: 0.0455   valid/loss: 0.0375   train/acc: 1.0000   valid/acc: 1.0000\n",
      "Epoch 72:   train/loss: 0.0524   valid/loss: 0.0405   train/acc: 1.0000   valid/acc: 1.0000\n",
      "Epoch 84:   train/loss: 0.0422   valid/loss: 0.0365   train/acc: 1.0000   valid/acc: 1.0000\n",
      "Epoch 96:   train/loss: 0.0461   valid/loss: 0.0342   train/acc: 1.0000   valid/acc: 1.0000\n",
      "Epoch 108:  train/loss: 0.0438   valid/loss: 0.0376   train/acc: 1.0000   valid/acc: 1.0000\n"
     ]
    },
    {
     "name": "stdout",
     "output_type": "stream",
     "text": [
      "Training Time:--- 3965.6871173381805 seconds ---\n"
     ]
    },
    {
     "name": "stderr",
     "output_type": "stream",
     "text": [
      "Epoch 120:  train/loss: 0.0461   valid/loss: 0.0374   train/acc: 1.0000   valid/acc: 1.0000\n",
      "\n",
      "Training completed!\n"
     ]
    }
   ],
   "source": [
    "import time\n",
    "start_time = time.time()\n",
    "trainer.fit(train_dataset, val_dataset, logging_step=12)\n",
    "\n",
    "print(\"Training Time:--- %s seconds ---\" % (time.time() - start_time))\n"
   ]
  },
  {
   "cell_type": "code",
   "execution_count": null,
   "id": "d5cac405-d4fb-4f25-9871-88e7ede528ff",
   "metadata": {},
   "outputs": [],
   "source": [
    "np.save('accuracy_vals_train_IQPAnsatz_noise.npy', trainer.train_results['acc'])\n",
    "np.save('accuracy_vals_val_IQPAnsatz_noise.npy', trainer.val_results['acc'])\n",
    "np.save('cost_vals_train_IQPAnsatz_noise.npy', trainer.train_epoch_costs)\n",
    "np.save('cost_vals_val_IQPAnsatz_noise.npy', trainer.val_costs)"
   ]
  },
  {
   "cell_type": "code",
   "execution_count": 1,
   "id": "2bbb3bda-7eff-48ed-8bb7-955336558703",
   "metadata": {},
   "outputs": [
    {
     "name": "stdout",
     "output_type": "stream",
     "text": [
      "(120,)\n"
     ]
    },
    {
     "data": {
      "text/plain": [
       "<matplotlib.legend.Legend at 0x7fc41e4b99d0>"
      ]
     },
     "execution_count": 1,
     "metadata": {},
     "output_type": "execute_result"
    },
    {
     "data": {
      "image/png": "[encoded data removed]",
      "text/plain": [
       "<Figure size 720x432 with 4 Axes>"
      ]
     },
     "metadata": {
      "needs_background": "light"
     },
     "output_type": "display_data"
    }
   ],
   "source": [
    "import matplotlib.pyplot as plt\n",
    "import numpy as np\n",
    "fig1, ((ax_tl, ax_tr), (ax_bl, ax_br)) = plt.subplots(2, 2, sharey='row', figsize=(10, 6))\n",
    "\n",
    "ax_tl.set_title('Training set')\n",
    "ax_tr.set_title('Development set')\n",
    "ax_bl.set_xlabel('Epochs')\n",
    "ax_br.set_xlabel('Epochs')\n",
    "ax_bl.set_ylabel('Accuracy')\n",
    "ax_tl.set_ylabel('Loss')\n",
    "\n",
    "IQPAnsatz_train_acc = np.load('accuracy_vals_train_IQPAnsatz_aer.npy')\n",
    "IQPAnsatz_val_acc = np.load('accuracy_vals_val_IQPAnsatz_aer.npy')\n",
    "IQPAnsatz_train_loss = np.load('cost_vals_train_IQPAnsatz_aer.npy')\n",
    "IQPAnsatz_val_loss = np.load('cost_vals_val_IQPAnsatz_aer.npy')\n",
    "print(np.shape(IQPAnsatz_train_acc))\n",
    "\n",
    "Sim14_train_acc = np.load('accuracy_vals_train_Sim14_noise.npy')\n",
    "Sim14_val_acc = np.load('accuracy_vals_val_Sim14_noise.npy')\n",
    "Sim14_train_loss = np.load('cost_vals_train_Sim14_noise.npy')\n",
    "Sim14_val_loss = np.load('cost_vals_val_Sim14_noise.npy')\n",
    "\n",
    "Sim15_train_acc = np.load('accuracy_vals_train_Sim15_noise.npy')\n",
    "Sim15_val_acc = np.load('accuracy_vals_val_Sim15_noise.npy')\n",
    "Sim15_train_loss = np.load('cost_vals_train_Sim15_noise.npy')\n",
    "Sim15_val_loss = np.load('cost_vals_val_Sim15_noise.npy')\n",
    "\n",
    "StrongEnt_train_acc = np.load('accuracy_vals_train_StrongEnt_noise.npy')\n",
    "StrongEnt_val_acc = np.load('accuracy_vals_val_StrongEnt_noise.npy')\n",
    "StrongEnt_train_loss = np.load('cost_vals_train_StrongEnt_noise.npy')\n",
    "StrongEnt_val_loss = np.load('cost_vals_val_StrongEnt_noise.npy')\n",
    "\n",
    "#Tensor_train_acc = np.load('accuracy_vals_train_tensor_rewrite.npy')\n",
    "#Tensor_val_acc = np.load('accuracy_vals_val_tensor_rewrite.npy')\n",
    "#Tensor_train_loss = np.load('cost_vals_train_tensor_rewrite.npy')\n",
    "#Tensor_val_loss = np.load('cost_vals_val_tensor_rewrite.npy')\n",
    "\n",
    "colours = iter(plt.rcParams['axes.prop_cycle'].by_key()['color'])\n",
    "#ax_tl.plot(Tensor_train_loss, linestyle='dashdot', color='tab:blue')\n",
    "ax_tl.plot(IQPAnsatz_train_loss[:120], linestyle='dotted', color='tab:blue')\n",
    "ax_tl.plot(Sim14_train_loss, linestyle='--', color='tab:blue')\n",
    "ax_tl.plot(Sim15_train_loss, linestyle='solid', color='tab:blue')\n",
    "ax_tl.plot(StrongEnt_train_loss, linestyle='solid', color='tab:blue')\n",
    "ax_tl.legend(['IQPAnsatz', 'Circuit14', 'Circuit15','StronglyEntanglingAnsatz'])\n",
    "\n",
    "#ax_bl.plot(Tensor_train_acc, linestyle='dashdot', color='tab:orange')\n",
    "ax_bl.plot(IQPAnsatz_train_acc[:120], linestyle='dotted', color='tab:orange')\n",
    "ax_bl.plot(Sim14_train_acc, linestyle='--', color='tab:orange')\n",
    "ax_bl.plot(Sim15_train_acc, linestyle='solid', color='tab:orange')\n",
    "ax_bl.plot(StrongEnt_train_acc, linestyle='solid', color='tab:orange')\n",
    "ax_bl.legend(['IQPAnsatz', 'Circuit14', 'Circuit15','StronglyEntanglingAnsatz'])\n",
    "\n",
    "#ax_tr.plot(Tensor_val_loss, linestyle='dashdot', color='tab:green')\n",
    "ax_tr.plot(IQPAnsatz_val_loss[:120], linestyle='dotted', color='tab:green')\n",
    "ax_tr.plot(Sim14_val_loss, linestyle='--', color='tab:green')\n",
    "ax_tr.plot(Sim15_val_loss, linestyle='solid', color='tab:green')\n",
    "ax_tr.plot(StrongEnt_val_loss, linestyle='solid', color='tab:green')\n",
    "ax_tr.legend(['IQPAnsatz', 'Circuit14', 'Circuit15','StronglyEntanglingAnsatz'])\n",
    "\n",
    "#ax_br.plot(Tensor_val_acc , linestyle='dashdot', color='tab:red')\n",
    "ax_br.plot(IQPAnsatz_val_acc[:120] , linestyle='dotted', color='tab:red')\n",
    "ax_br.plot(Sim14_val_acc , linestyle='--', color='tab:red')\n",
    "ax_br.plot(Sim15_val_acc , linestyle='solid', color='tab:red')\n",
    "ax_br.plot(StrongEnt_val_acc , linestyle='solid', color='tab:red')\n",
    "ax_br.legend(['IQPAnsatz', 'Circuit14', 'Circuit15','StronglyEntanglingAnsatz'])\n",
    "# print test accuracy\n",
    "#test_acc = acc(model(test_circuits), test_labels)\n",
    "#print('Test accuracy:', test_acc.item())"
   ]
  },
  {
   "cell_type": "code",
   "execution_count": null,
   "id": "9ae61e62-01b2-4b8c-9f29-369cab512f80",
   "metadata": {},
   "outputs": [],
   "source": [
    "\n",
    "from abc import ABC, abstractmethod\n",
    "from collections.abc import Callable, Mapping\n",
    "from datetime import datetime\n",
    "from math import ceil\n",
    "import os\n",
    "import random\n",
    "import socket\n",
    "import sys\n",
    "from typing import Any, Optional, Union\n",
    "from typing import TYPE_CHECKING\n",
    "\n",
    "from discopy import Tensor\n",
    "from tqdm.notebook import tqdm, trange\n",
    "\n",
    "if TYPE_CHECKING:\n",
    "    from torch.utils.tensorboard import SummaryWriter\n",
    "\n",
    "from lambeq.core.globals import VerbosityLevel\n",
    "from lambeq.training.checkpoint import Checkpoint\n",
    "from lambeq.training.dataset import Dataset\n",
    "from lambeq.training.model import Model\n",
    "\n",
    "\n",
    "def _import_tensorboard_writer() -> None:\n",
    "    global SummaryWriter\n",
    "    try:\n",
    "        from torch.utils.tensorboard import SummaryWriter\n",
    "    except ImportError:  # pragma: no cover\n",
    "        raise ImportError('tensorboard not found. Please install it using '\n",
    "                          '`pip install tensorboard`.')\n",
    "\n",
    "\n",
    "_StrPathT = Union[str, 'os.PathLike[str]']\n",
    "\n",
    "\n",
    "class CustomQuantumTrainer(QuantumTrainer):\n",
    "\n",
    "\n",
    "    def validation_step(\n",
    "            self,\n",
    "            batch: tuple[list[Any], np.ndarray]) -> tuple[np.ndarray, float]:\n",
    "        \"\"\"Perform a validation step.\n",
    "        Parameters\n",
    "        ----------\n",
    "        batch : tuple of list and np.ndarray\n",
    "            Current batch.\n",
    "        Returns\n",
    "        -------\n",
    "        tuple of np.ndarray and float\n",
    "            The model predictions and the calculated loss.\n",
    "        \"\"\"\n",
    "        x, y = batch\n",
    "        y_hat = self.model(x)\n",
    "        assert len(y) > 0\n",
    "        #assert y_hat != 0\n",
    "        print('Size of y from validation function', len(y))\n",
    "        print('log(y_hat) from validation function', np.log(y_hat))\n",
    "        loss = self.loss_function(y_hat, y)\n",
    "        numerator_loss = -np.sum(y * np.log(y_hat + epsilon)) + epsilon\n",
    "        denom_loss = len(y)\n",
    "        print('calculated numerator loss from validation function', numerator_loss)\n",
    "        print('calculated denom loss from validation function', denom_loss)\n",
    "        print('calculated loss from validation function', loss)\n",
    "        return y_hat, loss\n",
    "    def fit(self,\n",
    "            train_dataset: Dataset,\n",
    "            val_dataset: Optional[Dataset] = None,\n",
    "            evaluation_step: int = 1,\n",
    "            logging_step: int = 1) -> None:\n",
    "        \"\"\"Fit the model on the training data and, optionally,\n",
    "        evaluate it on the validation data.\n",
    "\n",
    "        Parameters\n",
    "        ----------\n",
    "        train_dataset : :py:class:`Dataset`\n",
    "            Dataset used for training.\n",
    "        val_dataset : :py:class:`Dataset`, optional\n",
    "            Validation dataset.\n",
    "        evaluation_step : int, default: 1\n",
    "            Sets the intervals at which the metrics are evaluated on the\n",
    "            validation dataset.\n",
    "        logging_step : int, default: 1\n",
    "            Sets the intervals at which the training statistics are\n",
    "            printed if `verbose = 'text'` (otherwise ignored).\n",
    "\n",
    "        \"\"\"\n",
    "        if self.from_checkpoint:\n",
    "            self._load_extra_chkpoint_info(self.checkpoint)\n",
    "\n",
    "        def writer_helper(*args: Any) -> None:\n",
    "            if self.use_tensorboard:\n",
    "                self.writer.add_scalar(*args)\n",
    "            else:\n",
    "                print(*args)\n",
    "\n",
    "        # initialise progress bar\n",
    "        step = self.start_step\n",
    "        batches_per_epoch = ceil(len(train_dataset)/train_dataset.batch_size)\n",
    "        status_bar = tqdm(total=float('inf'),\n",
    "                          bar_format='{desc}',\n",
    "                          desc=self._generate_stat_report(),\n",
    "                          disable=(\n",
    "                                self.verbose != VerbosityLevel.PROGRESS.value),\n",
    "                          leave=True,\n",
    "                          position=0)\n",
    "\n",
    "        # start training loop\n",
    "        for epoch in trange(self.start_epoch,\n",
    "                            self.epochs,\n",
    "                            desc='Epoch',\n",
    "                            disable=(\n",
    "                                self.verbose != VerbosityLevel.PROGRESS.value),\n",
    "                            leave=False,\n",
    "                            position=1):\n",
    "            train_loss = 0.0\n",
    "            with Tensor.backend(self.backend):\n",
    "                for batch in tqdm(train_dataset,\n",
    "                                  desc='Batch',\n",
    "                                  total=batches_per_epoch,\n",
    "                                  disable=(self.verbose\n",
    "                                           != VerbosityLevel.PROGRESS.value),\n",
    "                                  leave=False,\n",
    "                                  position=2):\n",
    "                    step += 1\n",
    "                    x, y_label = batch\n",
    "                    y_hat, loss = self.training_step(batch)\n",
    "                    writer_helper('y_hat', y_hat)\n",
    "                    #if np.isnan(np.array(y_hat)).any():\n",
    "                     #   raise Exception(\"Empty evaluation values list after training step!\")\n",
    "                    #if np.isnan(np.array(loss)).any():\n",
    "                     #   raise Exception(\"Nan loss values list after training step!\")\n",
    "                    writer_helper('y_hat', y_hat)\n",
    "                    if np.isnan(np.array(y_hat)).any():\n",
    "                        raise Exception(\"Empty evaluation values list!\")\n",
    "                    if (self.evaluate_on_train\n",
    "                            and self.evaluate_functions is not None):\n",
    "                        for metr, func in self.evaluate_functions.items():\n",
    "                            res = func(y_hat, y_label)\n",
    "                            metric = self._train_results_epoch[metr]\n",
    "                            metric.append(len(x) * res)\n",
    "                    train_loss += len(batch[0]) * loss\n",
    "                    assert np.isnan(np.array(loss)).any() == False\n",
    "                    writer_helper('train/step_loss', loss, step)\n",
    "                    status_bar.set_description(\n",
    "                            self._generate_stat_report(\n",
    "                                train_loss=loss,\n",
    "                                val_loss=(self.val_costs[-1] if self.val_costs\n",
    "                                          else None)))\n",
    "            train_loss /= len(train_dataset)\n",
    "            assert len(train_dataset) > 0\n",
    "            print('y_label', y_label)\n",
    "            if np.isnan(np.array(y_label)).any():\n",
    "                raise Exception(\"Empty train label list!\")\n",
    "            if np.isnan(np.array(y_hat)).any():\n",
    "                raise Exception(\"Empty evaluation values list!\")\n",
    "            self.train_epoch_costs.append(train_loss)\n",
    "            writer_helper('train/epoch_loss', train_loss, epoch + 1)\n",
    "\n",
    "            # evaluate on train\n",
    "            if (self.evaluate_on_train\n",
    "                    and self.evaluate_functions is not None):\n",
    "                for name in self._train_results_epoch:\n",
    "                    self.train_results[name].append(\n",
    "                        sum(self._train_results_epoch[name])/len(train_dataset)\n",
    "                    )\n",
    "                    self._train_results_epoch[name] = []  # reset\n",
    "                    writer_helper(\n",
    "                        f'train/{name}', self.train_results[name][-1],\n",
    "                        epoch+1)\n",
    "                    if self.verbose == VerbosityLevel.PROGRESS.value:\n",
    "                        status_bar.set_description(\n",
    "                                self._generate_stat_report(\n",
    "                                    train_loss=train_loss,\n",
    "                                    val_loss=(self.val_costs[-1]\n",
    "                                              if self.val_costs else None)))\n",
    "\n",
    "            # evaluate metrics on validation data\n",
    "            if val_dataset is not None:\n",
    "                if epoch % evaluation_step == 0:\n",
    "                    val_loss = 0.0\n",
    "                    batches_per_validation = ceil(len(val_dataset)\n",
    "                                                  / val_dataset.batch_size)\n",
    "                    writer_helper('batches_per_validation', batches_per_validation, len(val_dataset), val_dataset.batch_size)\n",
    "                    with Tensor.backend(self.backend):\n",
    "                        disable_tqdm = (self.verbose\n",
    "                                        != VerbosityLevel.PROGRESS.value)\n",
    "                        for v_batch in tqdm(val_dataset,\n",
    "                                            desc='Validation batch',\n",
    "                                            total=batches_per_validation,\n",
    "                                            disable=disable_tqdm,\n",
    "                                            leave=False,\n",
    "                                            position=2):\n",
    "                            writer_helper(\"***\", v_batch)\n",
    "                            x_val, y_label_val = v_batch\n",
    "                            writer_helper(\"***\", x_val, y_label_val)\n",
    "                            y_hat_val, cur_loss = self.validation_step(v_batch)\n",
    "                            if np.isnan(np.array(y_hat)).any():\n",
    "                                raise Exception(\"Empty evaluation values list after validation step!\")\n",
    "                            writer_helper(\"***\", y_hat_val, cur_loss)\n",
    "                            val_loss += cur_loss * len(x_val)\n",
    "                            if self.evaluate_functions is not None:\n",
    "                                for metr, func in (\n",
    "                                        self.evaluate_functions.items()):\n",
    "                                    res = func(y_hat_val, y_label_val)\n",
    "                                    self._val_results_epoch[metr].append(\n",
    "                                        len(x_val)*res)\n",
    "                            status_bar.set_description(\n",
    "                                    self._generate_stat_report(\n",
    "                                        train_loss=train_loss,\n",
    "                                        val_loss=val_loss))\n",
    "                        assert len(val_dataset) > 0\n",
    "                        writer_helper('empty val dataset!', len(val_dataset))\n",
    "                        val_loss /= len(val_dataset)\n",
    "                        self.val_costs.append(val_loss)\n",
    "                        writer_helper('cost vals', self.val_costs)\n",
    "                        status_bar.set_description(\n",
    "                                self._generate_stat_report(\n",
    "                                    train_loss=train_loss,\n",
    "                                    val_loss=val_loss))\n",
    "                        if np.isnan(np.array(val_loss)).any():\n",
    "                            raise Exception(\"loss value is NaN!\")\n",
    "                        writer_helper('empty val dataset!', len(val_dataset))\n",
    "                        writer_helper('val/loss', val_loss, epoch+1)\n",
    "\n",
    "                    if self.evaluate_functions is not None:\n",
    "                        for name in self._val_results_epoch:\n",
    "                            assert len(val_dataset) > 0\n",
    "                            writer_helper('empty val dataset!', len(val_dataset))\n",
    "                            self.val_results[name].append(\n",
    "                                sum(self._val_results_epoch[name])\n",
    "                                / len(val_dataset))\n",
    "                            self._val_results_epoch[name] = []  # reset\n",
    "                            writer_helper(\n",
    "                                f'val/{name}', self.val_results[name][-1],\n",
    "                                epoch + 1)\n",
    "                            status_bar.set_description(\n",
    "                                    self._generate_stat_report(\n",
    "                                        train_loss=train_loss,\n",
    "                                        val_loss=val_loss))\n",
    "            # save checkpoint info\n",
    "            save_dict = {'epoch': epoch+1,\n",
    "                         'model_weights': self.model.weights,\n",
    "                         'model_symbols': self.model.symbols,\n",
    "                        'train_costs': self.train_costs,\n",
    "                         'train_epoch_costs': self.train_epoch_costs,\n",
    "                         'train_results': self.train_results,\n",
    "                         'val_costs': self.val_costs,\n",
    "                         'val_results': self.val_results,\n",
    "                         'random_state': random.getstate(),\n",
    "                         'step': step}\n",
    "            print(f\"save_dict: {save_dict}\")\n",
    "            self.save_checkpoint(save_dict, self.log_dir)\n",
    "            if self.verbose == VerbosityLevel.TEXT.value:\n",
    "                if epoch == 0 or (epoch+1) % logging_step == 0:\n",
    "                    space = (len(str(self.epochs))-len(str(epoch+1)) + 2) * ' '\n",
    "                    prefix = f'Epoch {epoch+1}:' + space\n",
    "                    print(prefix + self._generate_stat_report(\n",
    "                            train_loss=train_loss,\n",
    "                            val_loss=(self.val_costs[-1] if self.val_costs\n",
    "                                      else None)),\n",
    "                          file=sys.stderr)\n",
    "        status_bar.close()\n",
    "        if self.verbose == VerbosityLevel.TEXT.value:\n",
    "            print('\\nTraining completed!', file=sys.stderr)"
   ]
  },
  {
   "cell_type": "code",
   "execution_count": null,
   "id": "5776f9f5-6fc5-46cf-b8b2-c691d83d1750",
   "metadata": {},
   "outputs": [],
   "source": [
    "trainer2 = CustomQuantumTrainer(\n",
    "    model,\n",
    "    epochs=EPOCHS,\n",
    "    loss_function=loss,\n",
    "    optimizer=SPSAOptimizer,\n",
    "    optim_hyperparams={'a': 0.05, 'c': 0.06, 'A':0.01*EPOCHS},\n",
    "    evaluate_functions={'acc': acc},\n",
    "    evaluate_on_train=True,\n",
    "    verbose = 'text',\n",
    "    seed=0\n",
    ")"
   ]
  },
  {
   "cell_type": "code",
   "execution_count": null,
   "id": "ae22523d-800e-4bb9-94b4-b1905683d232",
   "metadata": {},
   "outputs": [],
   "source": [
    "trainer2.fit(train_dataset, val_dataset, logging_step=12)"
   ]
  },
  {
   "cell_type": "code",
   "execution_count": null,
   "id": "432561ec-ea32-433f-9843-c8fef39eb7f4",
   "metadata": {},
   "outputs": [],
   "source": [
    "from discopy.quantum import Circuit"
   ]
  },
  {
   "cell_type": "code",
   "execution_count": null,
   "id": "1f584dda-bb59-460f-880b-0735b4f6896c",
   "metadata": {},
   "outputs": [],
   "source": [
    "np.array(all_circuits).reshape(-1)\n",
    "all_circuits[0]"
   ]
  },
  {
   "cell_type": "code",
   "execution_count": null,
   "id": "f2199504-eea9-4412-8d01-5b114cf94aad",
   "metadata": {},
   "outputs": [],
   "source": [
    "from pytket.circuit.display import render_circuit_jupyter\n",
    "render_circuit_jupyter(all_circuits[0][0].to_tk())"
   ]
  },
  {
   "cell_type": "code",
   "execution_count": null,
   "id": "4a144b07-e07d-42cf-b0d3-5e44214316e4",
   "metadata": {},
   "outputs": [],
   "source": [
    "lambdified_diagram = model._get_lambda(train_circuits[0][0])\n",
    "print(len(val_circuits))"
   ]
  },
  {
   "cell_type": "code",
   "execution_count": null,
   "id": "df77561f-de3a-4220-99be-827c22ff81ae",
   "metadata": {},
   "outputs": [],
   "source": [
    "print(lambdified_diagram)"
   ]
  },
  {
   "cell_type": "code",
   "execution_count": null,
   "id": "874a9be0-2163-4df0-b480-626f9192991e",
   "metadata": {},
   "outputs": [],
   "source": [
    "print(len(model.weights))\n"
   ]
  },
  {
   "cell_type": "code",
   "execution_count": null,
   "id": "22c0ee14-1d4a-49f7-bd67-1e90e5507189",
   "metadata": {},
   "outputs": [],
   "source": [
    "tensors = Circuit.eval(\n",
    "    *lambdified_diagram(*model.weights),\n",
    "    **model.backend_config,\n",
    "    seed=model._randint(),\n",
    ")"
   ]
  },
  {
   "cell_type": "code",
   "execution_count": null,
   "id": "45e57019-af88-4658-b457-c7e14a1be2a4",
   "metadata": {},
   "outputs": [],
   "source": [
    "lambdified_diagram(*model.weights)"
   ]
  },
  {
   "cell_type": "code",
   "execution_count": null,
   "id": "b4cfa50b-4805-4c59-a262-c6c92fb504fb",
   "metadata": {},
   "outputs": [],
   "source": [
    "import numpy as np\n",
    "epsilon=np.finfo('float64').eps\n",
    "eps = 1e-50\n",
    "np.log(eps + epsilon)/16"
   ]
  },
  {
   "cell_type": "code",
   "execution_count": null,
   "id": "b155cdbc-17cf-4d7d-88a5-5c7cd9e3d6bc",
   "metadata": {},
   "outputs": [],
   "source": [
    "import numpy as np\n",
    "np.log(0)"
   ]
  },
  {
   "cell_type": "code",
   "execution_count": null,
   "id": "b3f1a0c0-07bb-4aab-9350-52438cea3e98",
   "metadata": {},
   "outputs": [],
   "source": []
  }
 ],
 "metadata": {
  "kernelspec": {
   "display_name": "Python 3 [Womanium]",
   "language": "python",
   "name": "python3_womanium_go14xk"
  },
  "language_info": {
   "codemirror_mode": {
    "name": "ipython",
    "version": 3
   },
   "file_extension": ".py",
   "mimetype": "text/x-python",
   "name": "python",
   "nbconvert_exporter": "python",
   "pygments_lexer": "ipython3",
   "version": "3.9.10"
  }
 },
 "nbformat": 4,
 "nbformat_minor": 5
}
